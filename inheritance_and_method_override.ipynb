{
 "cells": [
  {
   "cell_type": "code",
   "execution_count": 25,
   "metadata": {},
   "outputs": [],
   "source": [
    "class Animal:\n",
    "    legs = 4\n",
    "    def __init__(self, name):\n",
    "        self.name = name\n",
    "        \n",
    "    def sound(self):\n",
    "        print(f\"I don't know what sound I make. I have {self.legs} legs.\")\n",
    "\n",
    "    def has_tail(self):\n",
    "        print(\"I have a tail\")"
   ]
  },
  {
   "cell_type": "code",
   "execution_count": 28,
   "metadata": {},
   "outputs": [],
   "source": [
    "class Cat(Animal):\n",
    "    legs = 3\n",
    "    def __init__(self, name):\n",
    "        super().__init__(name)\n",
    "\n",
    "    def sound(self):\n",
    "        print(f\"My name is {self.name}. I mew and I have {self.legs} legs\")\n",
    "#         self.has_tail()"
   ]
  },
  {
   "cell_type": "code",
   "execution_count": 29,
   "metadata": {},
   "outputs": [
    {
     "name": "stdout",
     "output_type": "stream",
     "text": [
      "I don't know what sound I make. I have 3 legs.\n"
     ]
    }
   ],
   "source": [
    "cat = Cat(\"Felix\")\n",
    "cat.sound()"
   ]
  },
  {
   "cell_type": "code",
   "execution_count": null,
   "metadata": {},
   "outputs": [],
   "source": [
    "# Follow-up questions:\n",
    "\n",
    "# 1. Uncomment the commented line in cell 2. What should be the output of cell 3?\n",
    "\n",
    "# 2. Delete the __init__ instantiation in the child class. What should be the output of cell 3?\n",
    "\n",
    "# 3. We would like to see the following output when you run cat.sound():\n",
    "#        \"I don't know what sound I make. I have 3 legs.\"\n",
    "#        \"I have a tail\"\n",
    "\n",
    "#    -- How would you change the sound() method to obtain this output?     \n",
    "\n",
    "# 4. Delete the sound() method from the child class. What should be the output of cell 3?"
   ]
  }
 ],
 "metadata": {
  "kernelspec": {
   "display_name": "Python 3",
   "language": "python",
   "name": "python3"
  },
  "language_info": {
   "codemirror_mode": {
    "name": "ipython",
    "version": 3
   },
   "file_extension": ".py",
   "mimetype": "text/x-python",
   "name": "python",
   "nbconvert_exporter": "python",
   "pygments_lexer": "ipython3",
   "version": "3.8.2"
  }
 },
 "nbformat": 4,
 "nbformat_minor": 2
}
