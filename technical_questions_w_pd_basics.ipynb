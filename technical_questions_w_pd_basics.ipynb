{
 "cells": [
  {
   "cell_type": "markdown",
   "metadata": {
    "colab_type": "text",
    "id": "x-peqqHRs1oJ"
   },
   "source": [
    "# RME Interview Questions"
   ]
  },
  {
   "cell_type": "markdown",
   "metadata": {
    "colab_type": "text",
    "id": "fsDRi17vs1oM"
   },
   "source": [
    "## Generals on Python Language\n",
    "- How would you describe the Python programming language to someone who is new to it but has familiarity with other languages, i.e., what are its most important characteristics, features, usages etc.\n",
    "- In which use case would you opt against it"
   ]
  },
  {
   "cell_type": "markdown",
   "metadata": {
    "colab_type": "text",
    "id": "hCjrXJihs1oO"
   },
   "source": [
    "## Pythonic Features\n",
    "Below is a list of python modules or concepts. What is your experience with them? What are typical use cases? \n",
    "\n",
    "### Python Libraries\n",
    "- `os.path` or `pathlib`\n",
    "- `sys`\n",
    "- `re`\n",
    "- `pytest` or `unittest`\n",
    "- `typing`\n",
    "- `logging` or `structlog`\n",
    "- `itertools`\n",
    "- `pickle`\n",
    "- `json`\n",
    "- `distutils`\n",
    "- `poetry`\n",
    "- `celery`\n",
    "- `flask` or `django`\n",
    "\n",
    "### Python Concepts\n",
    "- `with` statement\n",
    "- generators\n",
    "- decorators\n",
    "- dunder methods\n",
    "- list/dictionary comprehension\n",
    "- properties\n",
    "- virtual environments"
   ]
  },
  {
   "cell_type": "markdown",
   "metadata": {
    "colab_type": "text",
    "id": "wdWoEW1Ds1oP"
   },
   "source": [
    "### Software Engineering Concepts\n",
    "Can you explain your experience with the following concept. \n",
    "What packages or tools can you mention that are related?\n",
    "\n",
    "- design patterns\n",
    "- code design\n",
    "- code style\n",
    "- Experience with cloud computing, deploying models on the cloud\n",
    "- docker\n",
    "- code linting libraries\n",
    "- Debug programs\n",
    "- Code profiling with python"
   ]
  },
  {
   "cell_type": "markdown",
   "metadata": {
    "colab_type": "text",
    "id": "1h15cpvvs1oR"
   },
   "source": [
    "## Question: Python for Risk Modelling\n",
    "Which modules / 3rd party libraries, besides the above mentioned ones, are most useful for risk modelling?"
   ]
  },
  {
   "cell_type": "markdown",
   "metadata": {
    "colab_type": "text",
    "id": "tMLjXC7Rs1oT"
   },
   "source": [
    "## Coding Assignments\n",
    "In the following questions, you will see a code snippet with an empty section. You are asked to complete the code section so that the code has the particular functionality asked in the question. \n"
   ]
  },
  {
   "cell_type": "markdown",
   "metadata": {},
   "source": [
    "#### Ex 1 - Pandas basics\n",
    "Create a Pandas data frame with the following columns and values:<br/>\n",
    "A: [1, 2, 3, 4, 5, 6]\n",
    "B: [7 ,8, 9, 10, 11, 12]\n",
    "C: [13, 14, 15, 16, 17, 18]"
   ]
  },
  {
   "cell_type": "code",
   "execution_count": 3,
   "metadata": {},
   "outputs": [],
   "source": [
    "import pandas as pd\n",
    "import numpy as np\n",
    "### ENTER CODE HERE ###\n",
    "# df = ....\n",
    "#######################\n",
    "df.head()"
   ]
  },
  {
   "cell_type": "markdown",
   "metadata": {},
   "source": [
    "#### Ex 2\n",
    "From column `B` select the second element:"
   ]
  },
  {
   "cell_type": "code",
   "execution_count": 5,
   "metadata": {},
   "outputs": [],
   "source": [
    "### ENTER CODE HERE ###\n",
    "#######################"
   ]
  },
  {
   "cell_type": "markdown",
   "metadata": {},
   "source": [
    "#### Ex 3\n",
    "From column `C` select all values larger than 9"
   ]
  },
  {
   "cell_type": "code",
   "execution_count": 6,
   "metadata": {},
   "outputs": [],
   "source": [
    "### ENTER CODE HERE ###\n",
    "#######################"
   ]
  },
  {
   "cell_type": "markdown",
   "metadata": {},
   "source": [
    "#### Ex 4\n",
    "Convert all values in column `C` to a numpy array"
   ]
  },
  {
   "cell_type": "code",
   "execution_count": 7,
   "metadata": {},
   "outputs": [],
   "source": [
    "### ENTER CODE HERE ###\n",
    "#######################"
   ]
  },
  {
   "cell_type": "markdown",
   "metadata": {},
   "source": [
    "#### Ex 5\n",
    "Get the sum of all values in column `A`"
   ]
  },
  {
   "cell_type": "code",
   "execution_count": 8,
   "metadata": {},
   "outputs": [],
   "source": [
    "### ENTER CODE HERE ###\n",
    "#######################"
   ]
  },
  {
   "cell_type": "markdown",
   "metadata": {},
   "source": [
    "#### Ex 6\n",
    "Get the total sum of all values in the data frame"
   ]
  },
  {
   "cell_type": "code",
   "execution_count": 9,
   "metadata": {},
   "outputs": [],
   "source": [
    "### ENTER CODE HERE ###\n",
    "#######################"
   ]
  },
  {
   "cell_type": "markdown",
   "metadata": {},
   "source": [
    "#### Ex 7\n",
    "Get the sum across all columns"
   ]
  },
  {
   "cell_type": "code",
   "execution_count": 10,
   "metadata": {},
   "outputs": [],
   "source": [
    "### ENTER CODE HERE ###\n",
    "#######################"
   ]
  },
  {
   "cell_type": "markdown",
   "metadata": {},
   "source": [
    "#### Ex 8\n",
    "Set the index of the data frame to chronically incrementing dates"
   ]
  },
  {
   "cell_type": "code",
   "execution_count": 11,
   "metadata": {},
   "outputs": [],
   "source": [
    "import datetime as dt\n",
    "### ENTER CODE HERE ###\n",
    "#######################"
   ]
  },
  {
   "cell_type": "markdown",
   "metadata": {},
   "source": [
    "#### Ex 9\n",
    "Calculate the dot product of column `B`"
   ]
  },
  {
   "cell_type": "code",
   "execution_count": 12,
   "metadata": {},
   "outputs": [],
   "source": [
    "### ENTER CODE HERE ###\n",
    "#######################"
   ]
  },
  {
   "cell_type": "markdown",
   "metadata": {},
   "source": [
    "#### Ex 10\n",
    "Divide values in column a by values in column `B`, regardless of the data type"
   ]
  },
  {
   "cell_type": "code",
   "execution_count": 14,
   "metadata": {},
   "outputs": [],
   "source": [
    "### ENTER CODE HERE ###\n",
    "#######################"
   ]
  },
  {
   "cell_type": "markdown",
   "metadata": {},
   "source": [
    "#### Ex 11\n",
    "Set all squares in the data frame to 0"
   ]
  },
  {
   "cell_type": "code",
   "execution_count": null,
   "metadata": {},
   "outputs": [],
   "source": [
    "### ENTER CODE HERE ###\n",
    "#######################"
   ]
  },
  {
   "cell_type": "markdown",
   "metadata": {
    "colab_type": "text",
    "id": "4HRJyOXws1oU"
   },
   "source": [
    "#### Ex 12 - General Syntax\n",
    "Assign the last two elements of `a` to the variables `y` and `z`, in order to leverage the last print statement"
   ]
  },
  {
   "cell_type": "code",
   "execution_count": null,
   "metadata": {
    "colab": {},
    "colab_type": "code",
    "id": "xXJFV-3rs1oX"
   },
   "outputs": [],
   "source": [
    "import random\n",
    "\n",
    "N = 1000000\n",
    "m = random.randint(0, N)\n",
    "a = range(m)\n",
    "\n",
    "### ENTER CODE HERE ###\n",
    "# y = ...\n",
    "# z = ...\n",
    "#######################\n",
    "\n",
    "print(y, z)"
   ]
  },
  {
   "cell_type": "markdown",
   "metadata": {
    "colab_type": "text",
    "id": "HTZvB1Wvs1ow"
   },
   "source": [
    "#### Ex 13\n",
    "Consider the implementation of the following function `foo` and its usage\n",
    "```python\n",
    "def foo(a, b):\n",
    "    for arg in (a, b):\n",
    "        print(arg)\n",
    "\n",
    ">>> foo(1, 2)\n",
    ">>> 1\n",
    ">>> 2\n",
    "```\n",
    "\n",
    "Modify the code of the function so that `foo` accepts and processes an arbitrary number of arguments.\n"
   ]
  },
  {
   "cell_type": "code",
   "execution_count": null,
   "metadata": {
    "colab": {},
    "colab_type": "code",
    "id": "mIQGKj5Hs1o8"
   },
   "outputs": [],
   "source": [
    "### ENTER CODE HERE ###\n",
    "def foo\n",
    "\n",
    "#######################\n",
    "\n",
    "foo(1, 4, 2, \"c\")\n",
    "foo([1,2], [\"a\", \"b\"])"
   ]
  },
  {
   "cell_type": "markdown",
   "metadata": {
    "colab_type": "text",
    "id": "f-xF1on1s1pE"
   },
   "source": [
    "### Object Oriented Programming\n",
    "\n",
    "#### Ex 14\n",
    "Complete `Bar.__init__` such that the derived class `Bar` successfully inherits from `Foo` and adds the argument `b` as an instance attribute."
   ]
  },
  {
   "cell_type": "code",
   "execution_count": null,
   "metadata": {
    "colab": {},
    "colab_type": "code",
    "id": "41zpiDGWs1pG"
   },
   "outputs": [],
   "source": [
    "class Foo:\n",
    "    def __init__(self, a):\n",
    "        self.a = a\n",
    "        \n",
    "class Bar(Foo):\n",
    "    def __init__(self, a, b):\n",
    "        ### ENTER CODE HERE ###\n",
    "\n",
    "        #######################\n",
    "\n",
    "\n",
    "my_bar = Bar(1, 2)\n",
    "print(my_bar.a, my_bar.b)"
   ]
  },
  {
   "cell_type": "markdown",
   "metadata": {
    "colab_type": "text",
    "id": "AL8A8Nn6s1pP"
   },
   "source": [
    "#### Ex 15\n",
    "Consider the following UML diagram"
   ]
  },
  {
   "attachments": {
    "classes_small.png": {
     "image/png": "[encoded data removed]"
    }
   },
   "cell_type": "markdown",
   "metadata": {},
   "source": [
    "![classes_small.png](attachment:classes_small.png)"
   ]
  },
  {
   "cell_type": "markdown",
   "metadata": {
    "colab_type": "text",
    "id": "nhjv257Qs1pT"
   },
   "source": [
    "1. Write the python code for the following classes: `Person`, `Employee`"
   ]
  },
  {
   "cell_type": "code",
   "execution_count": null,
   "metadata": {
    "colab": {},
    "colab_type": "code",
    "id": "wlBroVQUs1pW"
   },
   "outputs": [],
   "source": [
    "### ENTER CODE HERE ###\n",
    "\n",
    "#######################"
   ]
  },
  {
   "cell_type": "markdown",
   "metadata": {},
   "source": [
    "#### Ex 16"
   ]
  },
  {
   "cell_type": "code",
   "execution_count": null,
   "metadata": {},
   "outputs": [],
   "source": [
    "class Animal:\n",
    "    legs = 4\n",
    "    def __init__(self, name):\n",
    "        self.name = name\n",
    "        \n",
    "    def sound(self):\n",
    "        print(f\"I don't know what sound I make. I have {self.legs} legs.\")\n",
    "\n",
    "    def has_tail(self):\n",
    "        print(\"I have a tail\")"
   ]
  },
  {
   "cell_type": "code",
   "execution_count": null,
   "metadata": {},
   "outputs": [],
   "source": [
    "class Cat(Animal):\n",
    "    legs = 3\n",
    "    def __init__(self, name):\n",
    "        super().__init__(name)\n",
    "\n",
    "     def sound(self):\n",
    "        print(f\"My name is {self.name}. I mew and I have {self.legs} legs\")\n",
    "#         self.has_tail()"
   ]
  },
  {
   "cell_type": "code",
   "execution_count": null,
   "metadata": {},
   "outputs": [],
   "source": [
    "cat = Cat(\"Felix\")\n",
    "cat.sound()"
   ]
  },
  {
   "cell_type": "code",
   "execution_count": null,
   "metadata": {},
   "outputs": [],
   "source": [
    "# Follow-up questions:\n",
    "\n",
    "# 1. Uncomment the commented line in cell 2. What should be the output of cell 3?\n",
    "\n",
    "# 2. Delete the __init__ constructor in the child class. What should be the output of cell 3?\n",
    "\n",
    "# 3. We would like to see the following output when you run cat.sound():\n",
    "#        \"I don't know what sound I make. I have 3 legs.\"\n",
    "#        \"I have a tail\"\n",
    "\n",
    "#    -- How would you change the sound() method to obtain this output?     \n",
    "\n",
    "# 4. Delete the sound() method from the child class. What should be the output of cell 3?"
   ]
  },
  {
   "cell_type": "markdown",
   "metadata": {
    "colab_type": "text",
    "id": "1_Q6dfCxs1pd"
   },
   "source": [
    "### Algorithms\n",
    "\n",
    "#### Ex 17\n",
    "* Describe the following code\n",
    "* Comment on whether improvements are needed for this code"
   ]
  },
  {
   "cell_type": "code",
   "execution_count": null,
   "metadata": {
    "colab": {},
    "colab_type": "code",
    "id": "1LLZGkVWs1pf",
    "scrolled": false
   },
   "outputs": [],
   "source": [
    "POWER = 0.25\n",
    "N = 10000\n",
    "\n",
    "def power_quarter(base):\n",
    "    return base**POWER\n",
    "\n",
    "x = 2\n",
    "y = power_quarter(x)\n",
    "print(y)\n",
    "\n",
    "x = list(range(N))\n",
    "y = []\n",
    "for val in x:\n",
    "    y.append(power_quarter(val))\n",
    "\n",
    "print(y[:10])"
   ]
  },
  {
   "cell_type": "code",
   "execution_count": null,
   "metadata": {
    "colab": {},
    "colab_type": "code",
    "id": "7fOmS2EXs1pn"
   },
   "outputs": [],
   "source": [
    "### ENTER CODE HERE ###\n",
    "\n",
    "#######################"
   ]
  },
  {
   "cell_type": "markdown",
   "metadata": {
    "colab_type": "text",
    "id": "4xj1mLZss1pu"
   },
   "source": [
    "#### Ex 18\n",
    "Write a function that, given as an input an iterable of numbers, returns the positions of all even numbers in the iterable.\n",
    "\n",
    "```python\n",
    "x = np.array([1, 3, 4, 6, 9, 11])\n",
    "solution = find_even_indices(x)\n",
    "print(solution)\n",
    ">>> [2, 3]\n",
    "```"
   ]
  },
  {
   "cell_type": "code",
   "execution_count": null,
   "metadata": {
    "colab": {},
    "colab_type": "code",
    "id": "tsGCp78Ys1pv"
   },
   "outputs": [],
   "source": [
    "import numpy as np\n",
    "\n",
    "def find_even_indices(values):\n",
    "    ### ENTER CODE HERE ###\n",
    "\n",
    "    #######################\n",
    "\n",
    "x = np.array([1, 3, 4, 6, 9, 11])\n",
    "solution = find_even_indices(x)\n",
    "assert(list(solution) == [2, 3])"
   ]
  },
  {
   "cell_type": "markdown",
   "metadata": {
    "colab_type": "text",
    "id": "tFyZSqLhs1p6"
   },
   "source": [
    "#### Ex 19\n",
    "Write a function that calculates the pi number assuming you have only a random number generator between 0 and 1 at your disposal"
   ]
  },
  {
   "cell_type": "code",
   "execution_count": null,
   "metadata": {
    "colab": {},
    "colab_type": "code",
    "id": "kOHchl_Ws1p7"
   },
   "outputs": [],
   "source": [
    "import numpy as np\n",
    "\n",
    "def approximate_pi(n_points=100000):\n",
    "    ### ENTER CODE HERE ###\n",
    "\n",
    "    #######################\n",
    "\n",
    "approximate_pi()"
   ]
  }
 ],
 "metadata": {
  "colab": {
   "name": "kaggle interview-questions clean.ipynb",
   "provenance": []
  },
  "kernelspec": {
   "display_name": "Python 3",
   "language": "python",
   "name": "python3"
  },
  "language_info": {
   "codemirror_mode": {
    "name": "ipython",
    "version": 3
   },
   "file_extension": ".py",
   "mimetype": "text/x-python",
   "name": "python",
   "nbconvert_exporter": "python",
   "pygments_lexer": "ipython3",
   "version": "3.7.1"
  }
 },
 "nbformat": 4,
 "nbformat_minor": 1
}
